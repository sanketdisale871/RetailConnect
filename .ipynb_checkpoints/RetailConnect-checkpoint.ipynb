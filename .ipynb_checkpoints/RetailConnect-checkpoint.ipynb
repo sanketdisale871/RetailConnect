{
 "cells": [
  {
   "cell_type": "markdown",
   "id": "91fff755",
   "metadata": {},
   "source": [
    "# Retail Connect "
   ]
  },
  {
   "cell_type": "code",
   "execution_count": 1,
   "id": "d54437c5",
   "metadata": {},
   "outputs": [],
   "source": [
    "import pandas as pd\n",
    "import numpy as np\n",
    "import matplotlib.pyplot as plt\n",
    "import seaborn as sns"
   ]
  },
  {
   "cell_type": "code",
   "execution_count": 2,
   "id": "79a763f3",
   "metadata": {},
   "outputs": [],
   "source": [
    "data = pd.read_csv('retailConnect.csv')"
   ]
  },
  {
   "cell_type": "markdown",
   "id": "3df7e5fd",
   "metadata": {},
   "source": [
    "data.head(2)"
   ]
  }
 ],
 "metadata": {
  "kernelspec": {
   "display_name": "Python 3 (ipykernel)",
   "language": "python",
   "name": "python3"
  },
  "language_info": {
   "codemirror_mode": {
    "name": "ipython",
    "version": 3
   },
   "file_extension": ".py",
   "mimetype": "text/x-python",
   "name": "python",
   "nbconvert_exporter": "python",
   "pygments_lexer": "ipython3",
   "version": "3.9.13"
  }
 },
 "nbformat": 4,
 "nbformat_minor": 5
}
